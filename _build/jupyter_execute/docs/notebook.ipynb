version https://git-lfs.github.com/spec/v1
oid sha256:e558a5ed093db684845fa204ebefaa3c3905810b8060a5eb2a001a9206b3dce2
size 355866
